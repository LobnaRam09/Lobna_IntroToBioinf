{
 "cells": [
  {
   "cell_type": "markdown",
   "metadata": {},
   "source": [
    "# Data Frames\n",
    "\n",
    "Data frames are the most important data type in R. They can be considered as matrix where columns can be of different types, in fact, data frames are just a collection of lists. <btr>\n",
    "Usually, data frames can be considered as sets of obervations (from an experiment, for example) where the rows are observations values and the columns the observation variables.\n"
   ]
  },
  {
   "cell_type": "code",
   "execution_count": null,
   "metadata": {
    "scrolled": true
   },
   "outputs": [],
   "source": [
    "# iris is one of R pre-loaded data frames, let's print it \n",
    "head(iris)\n",
    "\n",
    "\n",
    "# print the last lines\n",
    "tail(iris)\n",
    "\n"
   ]
  },
  {
   "cell_type": "markdown",
   "metadata": {},
   "source": [
    "## Structure of a data frame"
   ]
  },
  {
   "cell_type": "code",
   "execution_count": null,
   "metadata": {},
   "outputs": [],
   "source": [
    "# print the structure (the type of each columns)\n",
    "str(iris)\n",
    "\n",
    "# make a pairs plot. Each column is plotted agains the others. This plot is very useful to have a general idea about the data frame\n",
    "pairs(iris[ , -ncol(iris)])\n",
    "\n"
   ]
  },
  {
   "cell_type": "markdown",
   "metadata": {},
   "source": [
    "## Manually create a data frame\n",
    "\n",
    "You can also manually create data frames\n",
    "\n",
    "\n"
   ]
  },
  {
   "cell_type": "code",
   "execution_count": null,
   "metadata": {},
   "outputs": [],
   "source": [
    "players <- c(\"Alice\", \"Bob\", \"John\", \"Richard\")\n",
    "sex <- factor(c(\"F\", \"M\", \"M\", \"M\"))\n",
    "age <- c(20, 26, 25, 65)\n",
    "\n",
    "df <- data.frame(Players = players, Sex = sex, Age = age)\n",
    "df"
   ]
  },
  {
   "cell_type": "markdown",
   "metadata": {},
   "source": [
    "## Subsetting data frames\n",
    "Data frames can be subsetted in the same way as the matrices as we saw before.\n",
    "Single columns can be selected with the dollar operator. Be careful that the result of selecting with the dollar is a vector"
   ]
  },
  {
   "cell_type": "code",
   "execution_count": null,
   "metadata": {},
   "outputs": [],
   "source": [
    "\"Second and third row\"\n",
    "iris[2:3,]\n",
    "\n",
    "\"One element\"\n",
    "iris[2,4]\n",
    "\n",
    "\"One full column\" \n",
    "iris$Sepal.Length\n"
   ]
  },
  {
   "cell_type": "markdown",
   "metadata": {},
   "source": [
    "## subset function\n",
    "\n",
    "A useful function to subset data frame is the \"subset\" function, which allow you to select some part od the data frame based on some conditions"
   ]
  },
  {
   "cell_type": "code",
   "execution_count": null,
   "metadata": {},
   "outputs": [],
   "source": [
    "\n",
    "\"Select only setosa species\"\n",
    "head( subset(iris, Species == \"virginica\") )\n",
    "\n",
    "\"Select only sepal width between 3 and 4\"\n",
    "head( subset(iris, (Sepal.Length > 3 & Sepal.Width < 4 & Species == \"virginica\")) )  # OR is |\n"
   ]
  },
  {
   "cell_type": "markdown",
   "metadata": {},
   "source": [
    "## Sorting data frames\n",
    "\n",
    "To sort data frames by one column, use the \"order\" function on some column"
   ]
  },
  {
   "cell_type": "code",
   "execution_count": null,
   "metadata": {},
   "outputs": [],
   "source": [
    "\"Sort by sepal width\"\n",
    "head( iris[order(iris$Sepal.Width), ] )\n",
    "\n",
    "\"Sort by sepal width, inverse order\"\n",
    "head( iris[order(iris$Sepal.Width, decreasing = T), ] )\n",
    "\n"
   ]
  },
  {
   "cell_type": "markdown",
   "metadata": {},
   "source": [
    "## Wide to long format\n",
    "\n",
    "The data frame iris that we saw before is in \"wide\" format. Many functions in R expect data to be in a \"long\" format rather than a wide format (especially the ggplot functions that will see later on in the course). <br>\n",
    "For more examples, see https://www.datacamp.com/community/tutorials/long-wide-data-R"
   ]
  },
  {
   "cell_type": "code",
   "execution_count": null,
   "metadata": {},
   "outputs": [],
   "source": [
    "library(reshape2)\n",
    "\n",
    "head(iris)\n",
    "\n",
    "# turn iris into long format\n",
    "m <- melt(iris, id.vars =  c(\"Species\"))\n",
    "head(m, 20)\n",
    "\n",
    "# turn long format back to wide format. dcast requires a formula (y ~ x) defining how the data frame should look like\n",
    "#d <- dcast(m,   1:nrow(iris) + Species ~ variable, value.var  = \"value\")\n",
    "#head(d)\n"
   ]
  },
  {
   "cell_type": "markdown",
   "metadata": {},
   "source": [
    "## Grouping operations\n",
    "\n",
    "Grouping operations are useful to calculate summaries statistics based on some group, they are similar to the tapply function that we saw before. <br> <br>\n",
    "\n",
    "\n",
    "For best use of grouping, check the dplyr package, which is part of the tidyverse package https://dplyr.tidyverse.org/\n"
   ]
  },
  {
   "cell_type": "code",
   "execution_count": null,
   "metadata": {},
   "outputs": [],
   "source": [
    "\"*********** Summary of each column ***********\"\n",
    "summary(iris)\n",
    "\n",
    "\n",
    "\"*********** How many species counts are there? ***********\"\n",
    "table(iris$Species)\n",
    "\n",
    "\n",
    "\"*********** Colmun means ***********\"\n",
    "colMeans(iris[, -ncol(iris)])\n",
    "\n",
    "\n",
    "\"***********Mean of sepal data by Species***********\"\n",
    "aggregate(x = iris[, -ncol(iris)], by = list(iris$Species), FUN = mean) # you can also specify external functions as FUN\n",
    "\n"
   ]
  },
  {
   "cell_type": "markdown",
   "metadata": {},
   "source": [
    "## Reading data frames from files\n",
    "\n",
    "R provides quick functions to read data frames from files: read.table, read.csv and read.delim. read.csv and read.delim are just wrappers for read.table, have a look at the documentation to see what they actually do.\n"
   ]
  },
  {
   "cell_type": "code",
   "execution_count": null,
   "metadata": {},
   "outputs": [],
   "source": [
    "df <- read.table(\"Data/USArrests.csv\", sep=\",\")\n",
    "head(df)\n",
    "\n",
    "str(df)\n",
    "\n",
    "# You can even read the file using its hyperlink without downloading it\n",
    "df <- read.table(\"https://raw.githubusercontent.com/CBGP-UPM-INIA-PUBLIC/Introduction_R/master/Data/USArrests.csv\", sep=\",\")\n"
   ]
  },
  {
   "cell_type": "markdown",
   "metadata": {},
   "source": [
    "## Writing data frames to files\n",
    "\n",
    "Use write.table to write a data frame to a file. "
   ]
  },
  {
   "cell_type": "code",
   "execution_count": null,
   "metadata": {},
   "outputs": [],
   "source": [
    "players <- c(\"Alice\", \"Bob\", \"John\", \"Richard\")\n",
    "sex <- factor(c(\"F\", \"M\", \"M\", \"M\"))\n",
    "age <- c(20, 26, 25, 65)\n",
    "\n",
    "df <- data.frame(Players = players, Sex = sex, Age = age)\n",
    "\n",
    "write.table(df, \"Data/players.tsv\", sep=\"\\t\")\n",
    "\n",
    "# removes quotes\n",
    "#write.table(df, \"Data/players.tsv\", sep=\"\\t\", quote = F)\n",
    "\n",
    "# removes rownames\n",
    "#write.table(df, \"Data/players.tsv\", sep=\"\\t\", quote = F, row.names = F)\n",
    "\n",
    "# Wanna read an Excel file? checkl the readxl package\n",
    "\n"
   ]
  }
 ],
 "metadata": {
  "kernelspec": {
   "display_name": "R",
   "language": "R",
   "name": "ir"
  },
  "language_info": {
   "codemirror_mode": "r",
   "file_extension": ".r",
   "mimetype": "text/x-r-source",
   "name": "R",
   "pygments_lexer": "r",
   "version": "4.0.0"
  }
 },
 "nbformat": 4,
 "nbformat_minor": 2
}
