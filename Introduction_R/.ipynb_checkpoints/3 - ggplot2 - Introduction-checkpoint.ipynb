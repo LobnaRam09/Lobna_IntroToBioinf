{
 "cells": [
  {
   "cell_type": "markdown",
   "metadata": {},
   "source": [
    "# ggplot2\n",
    "\n",
    "The plots seen so far were done with the **Base R plotting** system, which is quite straightforward for simple plots, but it can be quite hard to use for more complicated plots.\n",
    "\n",
    "The package **ggplot2** provides an easy way to make nice plots ready for publication.\n",
    "\n",
    "ggplot2 is part of a bigger package, **tidyverse**, which include other packages from manipulating data frames, reading from files etc... https://www.tidyverse.org/\n",
    "\n",
    "ggplot usually likes data frames in long format, but it can be used with wide format.\n",
    "\n",
    "Have the ggplot cheatsheet at hand https://rstudio.com/wp-content/uploads/2015/03/ggplot2-cheatsheet.pdf"
   ]
  },
  {
   "cell_type": "code",
   "execution_count": null,
   "metadata": {},
   "outputs": [],
   "source": [
    "head(iris)\n",
    "\n",
    "# Let's plot sepal length vs sepal width of the iris package with the base R system\n",
    "plot(iris$Sepal.Length, iris$Petal.Length)"
   ]
  },
  {
   "cell_type": "code",
   "execution_count": null,
   "metadata": {},
   "outputs": [],
   "source": [
    "library(ggplot2)\n",
    "\n",
    "# ggplots always starts with the base call, which does nothing\n",
    "ggplot(iris)"
   ]
  },
  {
   "cell_type": "code",
   "execution_count": null,
   "metadata": {},
   "outputs": [],
   "source": [
    "# x and y can be specified with the aes() function, notice that you don't have to specify the name of the \n",
    "# data frame again for the columns, and without quotes\n",
    "ggplot(iris, aes(x = Sepal.Length, y = Petal.Length)) # still does nothing!"
   ]
  },
  {
   "cell_type": "code",
   "execution_count": null,
   "metadata": {},
   "outputs": [],
   "source": [
    "# Plot are added with the \"+\" operator\n",
    "ggplot(iris, aes(x = Sepal.Length, y = Petal.Length)) + geom_point()"
   ]
  },
  {
   "cell_type": "code",
   "execution_count": null,
   "metadata": {},
   "outputs": [],
   "source": [
    "# Let's make the points bigger \n",
    "ggplot(iris, aes(x = Sepal.Length, y = Petal.Length)) + geom_point(size=4)"
   ]
  },
  {
   "cell_type": "code",
   "execution_count": null,
   "metadata": {},
   "outputs": [],
   "source": [
    "# The plot include points from the three species\n",
    "# let's color them (better if the Species column is a factor)\n",
    "ggplot(iris, aes(x = Sepal.Length, y = Petal.Length, color = Species)) + geom_point(size=4)"
   ]
  },
  {
   "cell_type": "code",
   "execution_count": null,
   "metadata": {},
   "outputs": [],
   "source": [
    "# Change the default font\n",
    "ggplot(iris, aes(x = Sepal.Length, y = Petal.Length, color = Species)) + geom_point(size=4) + \n",
    "    theme(text = element_text(family = \"Arial\", size = 24, face = \"bold\")) "
   ]
  },
  {
   "cell_type": "code",
   "execution_count": null,
   "metadata": {},
   "outputs": [],
   "source": [
    "# Allow the plot to be bigger\n",
    "options(repr.plot.width = 15, repr.plot.height = 10, repr.plot.res = 100)\n",
    "\n",
    "# Change default theme to black and white\n",
    "theme_set(theme_bw())\n",
    "\n",
    "ggplot(iris, aes(x = Sepal.Length, y = Petal.Length, color = Species)) + geom_point(size=4) + \n",
    "    theme(text = element_text(family = \"Arial\", size = 32)) "
   ]
  },
  {
   "cell_type": "code",
   "execution_count": null,
   "metadata": {},
   "outputs": [],
   "source": [
    "# What about a density plot of the sepal length?\n",
    "ggplot(iris, aes(x = Sepal.Length)) + geom_density() + \n",
    "\n",
    "    theme(text = element_text(family = \"Arial\", size = 32)) "
   ]
  },
  {
   "cell_type": "code",
   "execution_count": null,
   "metadata": {},
   "outputs": [],
   "source": [
    "# Quite crappy! divide species by color, and add trasparency\n",
    "ggplot(iris, aes(x = Sepal.Length, fill=Species)) + geom_density(alpha=0.5) + \n",
    "\n",
    "    theme(text = element_text(family = \"Arial\", size = 32)) "
   ]
  },
  {
   "cell_type": "code",
   "execution_count": null,
   "metadata": {},
   "outputs": [],
   "source": [
    "# Save the plot\n",
    "ggsave(\"Plot.png\")"
   ]
  }
 ],
 "metadata": {
  "kernelspec": {
   "display_name": "R",
   "language": "R",
   "name": "ir"
  },
  "language_info": {
   "codemirror_mode": "r",
   "file_extension": ".r",
   "mimetype": "text/x-r-source",
   "name": "R",
   "pygments_lexer": "r",
   "version": "4.0.0"
  }
 },
 "nbformat": 4,
 "nbformat_minor": 2
}
