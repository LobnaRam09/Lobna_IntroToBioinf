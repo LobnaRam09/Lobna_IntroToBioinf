{
 "cells": [
  {
   "cell_type": "code",
   "execution_count": 1,
   "metadata": {},
   "outputs": [
    {
     "name": "stdout",
     "output_type": "stream",
     "text": [
      "osboxes\n"
     ]
    }
   ],
   "source": [
    "whoami"
   ]
  },
  {
   "cell_type": "code",
   "execution_count": 2,
   "metadata": {},
   "outputs": [
    {
     "name": "stdout",
     "output_type": "stream",
     "text": [
      "total 4.7M\n",
      "-rw-rw-r-- 1 osboxes osboxes 1.2M Sep  9 12:21  conv.txt\n",
      "-rw-rw-r-- 1 osboxes osboxes 1.2M Sep 12 14:51  Data_Only.csv\n",
      "-rw-rw-r-- 1 osboxes osboxes  147 Sep  9 12:21  DISCLAIMER\n",
      "-rw-rw-r-- 1 osboxes osboxes 1.6K Sep 12 14:07  Exam_1_Answers.ipynb\n",
      "-rw-rw-r-- 1 osboxes osboxes 1.2M Sep  9 18:39 'Exam Week '\n",
      "-rw-rw-r-- 1 osboxes osboxes 5.5K Sep 12 14:39 'Exam Week 1.ipynb'\n",
      "-rw-rw-r-- 1 osboxes osboxes 3.9K Sep  9 12:21 'Exam Week 2.ipynb'\n",
      "-rw-rw-r-- 1 osboxes osboxes 4.2K Sep  9 12:21  Germplasm.tsv\n",
      "-rw-rw-r-- 1 osboxes osboxes  141 Sep  9 12:21  how_to_convert.txt\n",
      "-rw-rw-r-- 1 osboxes osboxes 1.1K Sep  9 12:21  LICENSE\n",
      "-rw-rw-r-- 1 osboxes osboxes  637 Sep  9 12:21  LocusGene.tsv\n",
      "-rw-rw-r-- 1 osboxes osboxes 1.2M Sep  9 18:38  Locus_Germplasm_Phenotype_20130122.txt\n",
      "-rw-rw-r-- 1 osboxes osboxes    0 Sep 12 14:51  phenotype.csv\n",
      "-rw-rw-r-- 1 osboxes osboxes  743 Sep  9 12:21  README.md\n",
      "-rw-rw-r-- 1 osboxes osboxes 3.5K Sep 12 14:56  Untitled1.ipynb\n",
      "-rw-rw-r-- 1 osboxes osboxes  410 Sep  9 18:53  Untitled.ipynb\n"
     ]
    }
   ],
   "source": [
    "ls -lh"
   ]
  },
  {
   "cell_type": "code",
   "execution_count": 3,
   "metadata": {},
   "outputs": [
    {
     "name": "stdout",
     "output_type": "stream",
     "text": [
      "Locus_name)\tGermplasm_name\tphenotype\tpubmed_id\n"
     ]
    }
   ],
   "source": [
    "head -1 Locus_Germplasm_Phenotype_20130122.txt"
   ]
  },
  {
   "cell_type": "code",
   "execution_count": 4,
   "metadata": {},
   "outputs": [
    {
     "name": "stdout",
     "output_type": "stream",
     "text": [
      "number of lines in the Locus Germplasm Phenotype file:\n",
      "7216 Locus_Germplasm_Phenotype_20130122.txt\n"
     ]
    }
   ],
   "source": [
    "echo \"number of lines in the Locus Germplasm Phenotype file:\"\n",
    "wc -l Locus_Germplasm_Phenotype_20130122.txt"
   ]
  },
  {
   "cell_type": "code",
   "execution_count": 5,
   "metadata": {},
   "outputs": [
    {
     "name": "stdout",
     "output_type": "stream",
     "text": [
      "7215 Data_Only.csv\n"
     ]
    }
   ],
   "source": [
    "head -n -1 Locus_Germplasm_Phenotype_20130122.txt > Data_Only.csv\n",
    "#tail -7215 Locus_Germplasm_Phenotype_20130122.txt > Data_Only.csv\n",
    "wc -l  Data_Only.csv\n"
   ]
  },
  {
   "cell_type": "code",
   "execution_count": 17,
   "metadata": {},
   "outputs": [
    {
     "name": "stdout",
     "output_type": "stream",
     "text": [
      "0 phenotype.txt\n"
     ]
    }
   ],
   "source": [
    "grep -E -inoa '\\[0-9]{1}\\.\\[0-9]{8}' Locus_Germplasm_Phenotype_20130122.txt > phenotype.txt\n",
    "cat phenotype.txt\n",
    "wc -l  phenotype.txt"
   ]
  },
  {
   "cell_type": "code",
   "execution_count": null,
   "metadata": {},
   "outputs": [],
   "source": []
  }
 ],
 "metadata": {
  "kernelspec": {
   "display_name": "Bash",
   "language": "bash",
   "name": "bash"
  },
  "language_info": {
   "codemirror_mode": "shell",
   "file_extension": ".sh",
   "mimetype": "text/x-sh",
   "name": "bash"
  }
 },
 "nbformat": 4,
 "nbformat_minor": 2
}
